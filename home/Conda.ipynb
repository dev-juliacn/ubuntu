{
 "cells": [
  {
   "cell_type": "code",
   "execution_count": 1,
   "metadata": {},
   "outputs": [],
   "source": [
    "using Pkg"
   ]
  },
  {
   "cell_type": "code",
   "execution_count": 2,
   "metadata": {},
   "outputs": [
    {
     "name": "stdout",
     "output_type": "stream",
     "text": [
      "\u001b[32m\u001b[1m  Updating\u001b[22m\u001b[39m registry at `~/.julia/registries/General`\n",
      "\u001b[32m\u001b[1m  Updating\u001b[22m\u001b[39m git-repo `https://github.com/JuliaRegistries/General.git`\n",
      "\u001b[?25l\u001b[2K\u001b[?25h\u001b[32m\u001b[1m Resolving\u001b[22m\u001b[39m package versions...\n",
      "\u001b[32m\u001b[1m  Updating\u001b[22m\u001b[39m `~/.julia/environments/v1.0/Project.toml`\n",
      "\u001b[90m [no changes]\u001b[39m\n",
      "\u001b[32m\u001b[1m  Updating\u001b[22m\u001b[39m `~/.julia/environments/v1.0/Manifest.toml`\n",
      "\u001b[90m [no changes]\u001b[39m\n"
     ]
    }
   ],
   "source": [
    "Pkg.add(\"Conda\")"
   ]
  },
  {
   "cell_type": "code",
   "execution_count": 3,
   "metadata": {},
   "outputs": [],
   "source": [
    "using Conda"
   ]
  },
  {
   "cell_type": "code",
   "execution_count": 4,
   "metadata": {},
   "outputs": [
    {
     "name": "stderr",
     "output_type": "stream",
     "text": [
      "┌ Info: Running `conda list` in root environment\n",
      "└ @ Conda /root/.julia/packages/Conda/m7vem/src/Conda.jl:112\n"
     ]
    },
    {
     "name": "stdout",
     "output_type": "stream",
     "text": [
      "# packages in environment at /root/.julia/packages/Conda/m7vem/deps/usr:\n",
      "#\n",
      "# Name                    Version                   Build  Channel\n",
      "appdirs                   1.4.3            py37h28b3542_0  \n",
      "asn1crypto                0.24.0                   py37_0  \n",
      "attrs                     18.1.0                   py37_0  \n",
      "automat                   0.7.0                    py37_0  \n",
      "backcall                  0.1.0                    py37_0  \n",
      "bleach                    2.1.3                    py37_0  \n",
      "ca-certificates           2018.03.07                    0  \n",
      "certifi                   2018.8.13                py37_0  \n",
      "cffi                      1.11.5           py37h9745a5d_0  \n",
      "chardet                   3.0.4                    py37_1  \n",
      "conda                     4.5.10                   py37_0  \n",
      "conda-env                 2.6.0                h36134e3_1  \n",
      "constantly                15.1.0           py37h28b3542_0  \n",
      "cryptography              2.3              py37hb7f436b_0  \n",
      "cryptography-vectors      2.3                      py37_0  \n",
      "dbus                      1.13.2               h714fa37_1  \n",
      "decorator                 4.3.0                    py37_0  \n",
      "entrypoints               0.2.3                    py37_2  \n",
      "expat                     2.2.5                he0dffb1_0  \n",
      "fontconfig                2.13.0               h9420a91_0  \n",
      "freetype                  2.9.1                h8a8886c_0  \n",
      "glib                      2.56.1               h000015b_0  \n",
      "gmp                       6.1.2                h6c8ec71_1  \n",
      "gst-plugins-base          1.14.0               hbbd80ab_1  \n",
      "gstreamer                 1.14.0               hb453b48_1  \n",
      "html5lib                  1.0.1                    py37_0  \n",
      "hyperlink                 18.0.0                   py37_0  \n",
      "icu                       58.2                 h9c2bf20_1  \n",
      "idna                      2.7                      py37_0  \n",
      "incremental               17.5.0                   py37_0  \n",
      "ipykernel                 4.8.2                    py37_0  \n",
      "ipython                   6.5.0                    py37_0  \n",
      "ipython_genutils          0.2.0                    py37_0  \n",
      "ipywidgets                7.4.0                    py37_0  \n",
      "jedi                      0.12.1                   py37_0  \n",
      "jinja2                    2.10                     py37_0  \n",
      "jpeg                      9b                   h024ee3a_2  \n",
      "jsonschema                2.6.0                    py37_0  \n",
      "jupyter                   1.0.0                    py37_5  \n",
      "jupyter_client            5.2.3                    py37_0  \n",
      "jupyter_console           5.2.0                    py37_1  \n",
      "jupyter_core              4.4.0                    py37_0  \n",
      "libedit                   3.1.20170329         h6b74fdf_2  \n",
      "libffi                    3.2.1                hd88cf55_4  \n",
      "libgcc-ng                 7.2.0                hdf63c60_3  \n",
      "libpng                    1.6.34               hb9fc6fc_0  \n",
      "libsodium                 1.0.16               h1bed415_0  \n",
      "libstdcxx-ng              7.2.0                hdf63c60_3  \n",
      "libuuid                   1.0.3                h1bed415_2  \n",
      "libxcb                    1.13                 h1bed415_1  \n",
      "libxml2                   2.9.8                h26e45fe_1  \n",
      "markupsafe                1.0              py37h14c3975_1  \n",
      "mistune                   0.8.3            py37h14c3975_1  \n",
      "nbconvert                 5.3.1                    py37_0  \n",
      "nbformat                  4.4.0                    py37_0  \n",
      "ncurses                   6.1                  hf484d3e_0  \n",
      "notebook                  5.6.0                    py37_0  \n",
      "openssl                   1.0.2p               h14c3975_0  \n",
      "pandoc                    2.2.1                h629c226_0  \n",
      "pandocfilters             1.4.2                    py37_1  \n",
      "parso                     0.3.1                    py37_0  \n",
      "pcre                      8.42                 h439df22_0  \n",
      "pexpect                   4.6.0                    py37_0  \n",
      "pickleshare               0.7.4                    py37_0  \n",
      "pip                       10.0.1                   py37_0  \n",
      "prometheus_client         0.3.1                    py37_0  \n",
      "prompt_toolkit            1.0.15                   py37_0  \n",
      "ptyprocess                0.6.0                    py37_0  \n",
      "pyasn1                    0.4.4                    py37_0  \n",
      "pyasn1-modules            0.2.2                    py37_0  \n",
      "pycosat                   0.6.3            py37h14c3975_0  \n",
      "pycparser                 2.18                     py37_1  \n",
      "pygments                  2.2.0                    py37_0  \n",
      "pyopenssl                 18.0.0                   py37_0  \n",
      "pyqt                      5.9.2            py37h22d08a2_0  \n",
      "pysocks                   1.6.8                    py37_0  \n",
      "python                    3.7.0                hc3d631a_0  \n",
      "python-dateutil           2.7.3                    py37_0  \n",
      "pyzmq                     17.1.2           py37h14c3975_0  \n",
      "qt                        5.9.6                h52aff34_0  \n",
      "qtconsole                 4.4.0                    py37_0  \n",
      "readline                  7.0                  ha6073c6_4  \n",
      "requests                  2.19.1                   py37_0  \n",
      "ruamel_yaml               0.15.46          py37h14c3975_0  \n",
      "send2trash                1.5.0                    py37_0  \n",
      "service_identity          17.0.0           py37h28b3542_0  \n",
      "setuptools                40.0.0                   py37_0  \n",
      "simplegeneric             0.8.1                    py37_2  \n",
      "sip                       4.19.8           py37hf484d3e_0  \n",
      "six                       1.11.0                   py37_1  \n",
      "sqlite                    3.24.0               h84994c4_0  \n",
      "terminado                 0.8.1                    py37_1  \n",
      "testpath                  0.3.1                    py37_0  \n",
      "tk                        8.6.7                hc745277_3  \n",
      "tornado                   5.1              py37h14c3975_0  \n",
      "traitlets                 4.3.2                    py37_0  \n",
      "twisted                   18.7.0           py37h14c3975_1  \n",
      "urllib3                   1.23                     py37_0  \n",
      "wcwidth                   0.1.7                    py37_0  \n",
      "webencodings              0.5.1                    py37_1  \n",
      "wheel                     0.31.1                   py37_0  \n",
      "widgetsnbextension        3.4.0                    py37_0  \n",
      "xz                        5.2.4                h14c3975_4  \n",
      "yaml                      0.1.7                had09818_2  \n",
      "zeromq                    4.2.5                hf484d3e_0  \n",
      "zlib                      1.2.11               ha838bed_2  \n",
      "zope                      1.0                      py37_0  \n",
      "zope.interface            4.5.0            py37h14c3975_0  \n"
     ]
    }
   ],
   "source": [
    "Conda.list()"
   ]
  },
  {
   "cell_type": "code",
   "execution_count": 5,
   "metadata": {},
   "outputs": [
    {
     "data": {
      "text/plain": [
       "\"/root/.julia/packages/Conda/m7vem/deps/usr\""
      ]
     },
     "execution_count": 5,
     "metadata": {},
     "output_type": "execute_result"
    }
   ],
   "source": [
    "path = Conda.ROOTENV"
   ]
  },
  {
   "cell_type": "code",
   "execution_count": 6,
   "metadata": {},
   "outputs": [
    {
     "name": "stdout",
     "output_type": "stream",
     "text": [
      "Package              Version  \n",
      "-------------------- ---------\n",
      "appdirs              1.4.3    \n",
      "asn1crypto           0.24.0   \n",
      "attrs                18.1.0   \n",
      "Automat              0.7.0    \n",
      "backcall             0.1.0    \n",
      "bleach               2.1.3    \n",
      "certifi              2018.8.13\n",
      "cffi                 1.11.5   \n",
      "chardet              3.0.4    \n",
      "conda                4.5.10   \n",
      "constantly           15.1.0   \n",
      "cryptography         2.3      \n",
      "cryptography-vectors 2.3      \n",
      "decorator            4.3.0    \n",
      "entrypoints          0.2.3    \n",
      "html5lib             1.0.1    \n",
      "hyperlink            18.0.0   \n",
      "idna                 2.7      \n",
      "incremental          17.5.0   \n",
      "ipykernel            4.8.2    \n",
      "ipython              6.5.0    \n",
      "ipython-genutils     0.2.0    \n",
      "ipywidgets           7.4.0    \n",
      "jedi                 0.12.1   \n",
      "Jinja2               2.10     \n",
      "jsonschema           2.6.0    \n",
      "jupyter              1.0.0    \n",
      "jupyter-client       5.2.3    \n",
      "jupyter-console      5.2.0    \n",
      "jupyter-core         4.4.0    \n",
      "MarkupSafe           1.0      \n",
      "mistune              0.8.3    \n",
      "nbconvert            5.3.1    \n",
      "nbformat             4.4.0    \n",
      "notebook             5.6.0    \n",
      "pandocfilters        1.4.2    \n",
      "parso                0.3.1    \n",
      "pexpect              4.6.0    \n",
      "pickleshare          0.7.4    \n",
      "pip                  10.0.1   \n",
      "prometheus-client    0.3.1    \n",
      "prompt-toolkit       1.0.15   \n",
      "ptyprocess           0.6.0    \n",
      "pyasn1               0.4.4    \n",
      "pyasn1-modules       0.2.2    \n",
      "pycosat              0.6.3    \n",
      "pycparser            2.18     \n",
      "Pygments             2.2.0    \n",
      "pyOpenSSL            18.0.0   \n",
      "PySocks              1.6.8    \n",
      "python-dateutil      2.7.3    \n",
      "pyzmq                17.1.2   \n",
      "qtconsole            4.4.0    \n",
      "requests             2.19.1   \n",
      "ruamel-yaml          0.15.46  \n",
      "Send2Trash           1.5.0    \n",
      "service-identity     17.0.0   \n",
      "setuptools           40.0.0   \n",
      "simplegeneric        0.8.1    \n",
      "six                  1.11.0   \n",
      "terminado            0.8.1    \n",
      "testpath             0.3.1    \n",
      "tornado              5.1      \n",
      "traitlets            4.3.2    \n",
      "Twisted              18.7.0   \n",
      "urllib3              1.23     \n",
      "wcwidth              0.1.7    \n",
      "webencodings         0.5.1    \n",
      "wheel                0.31.1   \n",
      "widgetsnbextension   3.4.0    \n",
      "zope.interface       4.5.0    \n"
     ]
    },
    {
     "name": "stderr",
     "output_type": "stream",
     "text": [
      "You are using pip version 10.0.1, however version 18.0 is available.\n",
      "You should consider upgrading via the 'pip install --upgrade pip' command.\n"
     ]
    },
    {
     "data": {
      "text/plain": [
       "Process(`\u001b[4m/root/.julia/packages/Conda/m7vem/deps/usr/bin/pip\u001b[24m \u001b[4mlist\u001b[24m`, ProcessExited(0))"
      ]
     },
     "execution_count": 6,
     "metadata": {},
     "output_type": "execute_result"
    }
   ],
   "source": [
    "run(`$path/bin/pip list`)"
   ]
  },
  {
   "cell_type": "code",
   "execution_count": null,
   "metadata": {},
   "outputs": [],
   "source": []
  }
 ],
 "metadata": {
  "kernelspec": {
   "display_name": "Julia 1.0.0",
   "language": "julia",
   "name": "julia-1.0"
  },
  "language_info": {
   "file_extension": ".jl",
   "mimetype": "application/julia",
   "name": "julia",
   "version": "1.0.0"
  }
 },
 "nbformat": 4,
 "nbformat_minor": 2
}
